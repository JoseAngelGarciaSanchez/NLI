{
 "cells": [
  {
   "attachments": {},
   "cell_type": "markdown",
   "metadata": {},
   "source": [
    "# Introduction au deep learning\n",
    "\n",
    "## 1) Intro\n",
    "### a) Pourquoi le DL ?\n",
    "\n",
    "Existe depuis les années 50 (Neural Network) peu utilisé car difficile à entraîner -> bcp de données et puissance de calcul\n",
    "\n",
    "Mais en 2006, G. Hinton sort un papier Deep Belief Network : première fois que le réseaux de neuronnes est entraîné de façon propre. \n",
    "     - Premiers résultats sur la Computer Vision (CV) avec les CNN\n",
    "     - La reconnaissance vocale \n",
    "     - Traitement du langage\n",
    "Ces tâches cognitives, pour raccourcir on parle d'IA.\n",
    "\n",
    "Quelques exemples :\n",
    "tranformers (BERT, CART, GPT, chatGPT)\n",
    "deep reinforcement learning\n",
    "DoTA\n",
    "\n",
    "Raisons du succès (ordre croissant d'importance +/-) : \n",
    "Evolution du hardware (cf loi de moore) GPU, TPU, etc.\n",
    "La quantité de données\n",
    "Open Source, Open Research\n",
    "La recherche sur l'optimisation (recherche d'extrema locaux)\n",
    "\n",
    "Quelques exemples d'application \n",
    "\n",
    "Google : translate (construit avec peu de données et chaines de markov, puis en 2020 DL), moteur de recherche (sur BERT) \n",
    "Amazon : Alexa, système de recommandation\n",
    "Paypal : détection de la fraude\n",
    "iOS/Android : detection d'activité\n",
    "\n",
    "b) Qu'est ce qu'un réseau de neurones ? \n",
    "\n"
   ]
  }
 ],
 "metadata": {
  "language_info": {
   "name": "python"
  },
  "orig_nbformat": 4
 },
 "nbformat": 4,
 "nbformat_minor": 2
}
